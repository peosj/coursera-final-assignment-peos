{
 "cells": [
  {
   "cell_type": "markdown",
   "id": "26fb7438-6dfa-4347-8fbe-83272cdbae4a",
   "metadata": {},
   "source": [
    "# Data Science Tools and Ecosystem (H1)"
   ]
  },
  {
   "cell_type": "markdown",
   "id": "26de3f9f-c838-4109-8f59-8ea77e9ccc4b",
   "metadata": {},
   "source": [
    "In this notebook, Data Science Tools and Ecosystem are summarized."
   ]
  },
  {
   "cell_type": "markdown",
   "id": "654ae205-5fa3-49ee-a416-c5a18355d04a",
   "metadata": {},
   "source": [
    "## Objectives:"
   ]
  },
  {
   "cell_type": "markdown",
   "id": "22358e35-a73f-4d98-bb2c-52ef4c49479b",
   "metadata": {},
   "source": [
    "some of the key takeaways fromthe course\n",
    "- learn how craete tables on jupyter\n",
    "- learn how to add Markdowns\n",
    "- learn how to code block\n",
    "- learn how use jupypter notebook for datascience project\n",
    "- learn how to do formatting on jupyter notebook\n"
   ]
  },
  {
   "cell_type": "markdown",
   "id": "ad92d709-9501-45ea-83f8-27cbff6ec38c",
   "metadata": {},
   "source": [
    "## Author:"
   ]
  },
  {
   "cell_type": "markdown",
   "id": "95b4b856-1df2-4086-92d5-0726f2be521f",
   "metadata": {},
   "source": [
    "Peos John"
   ]
  },
  {
   "cell_type": "markdown",
   "id": "4085f6ba-4913-4516-82e5-718450048fbc",
   "metadata": {},
   "source": [
    "Some of the popular languages that Data Scientists use are:\n",
    "Then create an\n",
    "ordered list\n",
    "(i.e. numbered) listing 3 (or more) commonly used languages for data science."
   ]
  },
  {
   "cell_type": "markdown",
   "id": "a7fa94f6-8f4f-4f04-b163-b6e6c245309c",
   "metadata": {},
   "source": [
    "Some of the commonly used libraries used by Data Scientists include:\n",
    "Below this line add an\n",
    "ordered list\n",
    "listing 3 (or more) commonly used libraries in data science."
   ]
  },
  {
   "cell_type": "markdown",
   "id": "1a90b2dc-5d78-46bd-b7b5-0d75a21b91fc",
   "metadata": {},
   "source": [
    "| Data Science Tool | \n",
    "|------------------|\n",
    "| Jypypter |\n",
    "| RStudio |\n",
    "| Google Colab |"
   ]
  },
  {
   "cell_type": "markdown",
   "id": "e63e792b-4042-4e9d-b3a0-b910343c0308",
   "metadata": {},
   "source": [
    "### Below are a few examples of evaluating arithmetic expressions in Python"
   ]
  },
  {
   "cell_type": "markdown",
   "id": "e6a856dc-e367-4144-8d9b-1a7dde1be3a7",
   "metadata": {},
   "source": [
    "This a simple arithmetic expression to mutiply then add integers\n"
   ]
  },
  {
   "cell_type": "code",
   "execution_count": 6,
   "id": "1214c7c6-579c-48a4-b8f7-199b00b2eba3",
   "metadata": {},
   "outputs": [
    {
     "data": {
      "text/plain": [
       "17"
      ]
     },
     "execution_count": 6,
     "metadata": {},
     "output_type": "execute_result"
    }
   ],
   "source": [
    "(3*4)+5"
   ]
  },
  {
   "cell_type": "markdown",
   "id": "1b8d4901-4a9c-487c-8b63-a7e109e27c17",
   "metadata": {},
   "source": [
    "This will convert 200 minutes to hours by diving by 60\n",
    "    "
   ]
  },
  {
   "cell_type": "code",
   "execution_count": 7,
   "id": "34b81a52-950e-4819-b4f4-a428b5bf11cf",
   "metadata": {},
   "outputs": [
    {
     "data": {
      "text/plain": [
       "3.3333333333333335"
      ]
     },
     "execution_count": 7,
     "metadata": {},
     "output_type": "execute_result"
    }
   ],
   "source": [
    "200/60"
   ]
  },
  {
   "cell_type": "code",
   "execution_count": null,
   "id": "b092dca5-4148-468e-b89e-99318e7be588",
   "metadata": {},
   "outputs": [],
   "source": []
  }
 ],
 "metadata": {
  "kernelspec": {
   "display_name": "Python 3 (ipykernel)",
   "language": "python",
   "name": "python3"
  },
  "language_info": {
   "codemirror_mode": {
    "name": "ipython",
    "version": 3
   },
   "file_extension": ".py",
   "mimetype": "text/x-python",
   "name": "python",
   "nbconvert_exporter": "python",
   "pygments_lexer": "ipython3",
   "version": "3.12.8"
  }
 },
 "nbformat": 4,
 "nbformat_minor": 5
}
